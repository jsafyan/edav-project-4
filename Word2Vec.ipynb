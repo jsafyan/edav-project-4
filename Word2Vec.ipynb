{
 "cells": [
  {
   "cell_type": "code",
   "execution_count": 1,
   "metadata": {
    "collapsed": true
   },
   "outputs": [],
   "source": [
    "import nltk"
   ]
  },
  {
   "cell_type": "code",
   "execution_count": 31,
   "metadata": {
    "collapsed": false
   },
   "outputs": [],
   "source": [
    "lines = []\n",
    "with open('sotu.txt') as f:\n",
    "    for line in f:\n",
    "        lines.append(line.strip())\n",
    "\n",
    "lines = [line for line in lines if line != '\\n' and line != '']\n",
    "lines.append('')\n",
    "\n",
    "stars = [i for i, x in enumerate(lines) if x == '***']\n",
    "# last line of file\n",
    "stars.append(len(lines) - 1)\n",
    "\n",
    "def president(i):\n",
    "    return ' '.join(lines[stars[i] + 2 : stars[i] + 3]).strip()\n",
    "\n",
    "def date(i):\n",
    "    return ' '.join(lines[stars[i] + 3 : stars[i] + 4]).strip()\n",
    "\n",
    "def speech(i):\n",
    "    return ' '.join(lines[stars[i] + 4 : stars[i + 1]]).strip()"
   ]
  },
  {
   "cell_type": "code",
   "execution_count": 126,
   "metadata": {
    "collapsed": true
   },
   "outputs": [],
   "source": [
    "def tokenize_speech(speech):\n",
    "    return nltk.tokenize.sent_tokenize(speech)\n",
    "\n",
    "def sotu_sentences():\n",
    "    sentences = []\n",
    "    for i in range(len(stars) - 1):\n",
    "        temp_sentences = [x.split(',') for x in tokenize_speech(speech(i))]\n",
    "        sentences = sentences + [nltk.word_tokenize(x[0]) for x in temp_sentences]\n",
    "    return sentences"
   ]
  },
  {
   "cell_type": "code",
   "execution_count": 127,
   "metadata": {
    "collapsed": false
   },
   "outputs": [],
   "source": [
    "sentences = sotu_sentences()"
   ]
  },
  {
   "cell_type": "code",
   "execution_count": 128,
   "metadata": {
    "collapsed": false
   },
   "outputs": [
    {
     "data": {
      "text/plain": [
       "60068"
      ]
     },
     "execution_count": 128,
     "metadata": {},
     "output_type": "execute_result"
    }
   ],
   "source": [
    "len(sentences)"
   ]
  },
  {
   "cell_type": "code",
   "execution_count": 8,
   "metadata": {
    "collapsed": true
   },
   "outputs": [],
   "source": [
    "import gensim"
   ]
  },
  {
   "cell_type": "code",
   "execution_count": 165,
   "metadata": {
    "collapsed": false
   },
   "outputs": [
    {
     "data": {
      "text/plain": [
       "3128183"
      ]
     },
     "execution_count": 165,
     "metadata": {},
     "output_type": "execute_result"
    }
   ],
   "source": [
    "# train the basic model with text8-rest, which is all the sentences\n",
    "# without the word - queen\n",
    "bigram_transformer = gensim.models.Phrases(sentences)\n",
    "model = gensim.models.Word2Vec(bigram_transformer[sentences], size=100)\n",
    "#model = gensim.models.Word2Vec()\n",
    "#model.build_vocab(sentences)\n",
    "model.train(sentences)"
   ]
  },
  {
   "cell_type": "code",
   "execution_count": 166,
   "metadata": {
    "collapsed": false
   },
   "outputs": [
    {
     "data": {
      "text/plain": [
       "[('world', 0.8196092844009399),\n",
       " ('freedom', 0.7895143032073975),\n",
       " ('Nation', 0.7117793560028076),\n",
       " ('society', 0.7083470821380615),\n",
       " ('democracy', 0.6956453919410706),\n",
       " ('mankind', 0.6912990808486938),\n",
       " ('community', 0.6883925795555115),\n",
       " ('nation', 0.687583863735199),\n",
       " ('us', 0.6674727201461792),\n",
       " ('future', 0.6513488292694092)]"
      ]
     },
     "execution_count": 166,
     "metadata": {},
     "output_type": "execute_result"
    }
   ],
   "source": [
    "# Evaluation\n",
    "model.most_similar('America')"
   ]
  },
  {
   "cell_type": "code",
   "execution_count": 185,
   "metadata": {
    "collapsed": false
   },
   "outputs": [
    {
     "data": {
      "text/plain": [
       "[('renew', 0.5379056930541992),\n",
       " ('inform', 0.5197756290435791),\n",
       " ('predecessor', 0.519643247127533),\n",
       " ('lay_before', 0.5108634829521179),\n",
       " ('announce', 0.5064438581466675),\n",
       " ('earnestly', 0.4998680353164673),\n",
       " ('thought', 0.4952680468559265),\n",
       " ('pleasure', 0.4904940128326416),\n",
       " ('communicate', 0.47466787695884705),\n",
       " ('transmit', 0.4725029170513153)]"
      ]
     },
     "execution_count": 185,
     "metadata": {},
     "output_type": "execute_result"
    }
   ],
   "source": [
    "model.most_similar(positive=['Churchill'], negative=['England'])"
   ]
  },
  {
   "cell_type": "code",
   "execution_count": 206,
   "metadata": {
    "collapsed": false
   },
   "outputs": [
    {
     "data": {
      "text/plain": [
       "[('terrorist', 0.831338107585907),\n",
       " ('prevalence', 0.8265184164047241),\n",
       " ('inherited', 0.8254297971725464),\n",
       " ('have_arisen', 0.8201935291290283),\n",
       " ('stretches', 0.8175661563873291),\n",
       " ('al_Qaeda', 0.8170592784881592),\n",
       " ('Negotiations_are', 0.8164798617362976),\n",
       " ('modern_industrial', 0.8079987168312073),\n",
       " ('free_trade', 0.8074973821640015),\n",
       " ('alarm', 0.8059863448143005)]"
      ]
     },
     "execution_count": 206,
     "metadata": {},
     "output_type": "execute_result"
    }
   ],
   "source": [
    "model.most_similar(['terrorism', 'America'], ['freedom'])"
   ]
  },
  {
   "cell_type": "code",
   "execution_count": 235,
   "metadata": {
    "collapsed": false
   },
   "outputs": [
    {
     "data": {
      "text/plain": [
       "[('Asia', 0.9890565872192383),\n",
       " ('East', 0.8929318189620972),\n",
       " ('Americas', 0.8904061317443848),\n",
       " ('Europe', 0.8596049547195435)]"
      ]
     },
     "execution_count": 235,
     "metadata": {},
     "output_type": "execute_result"
    }
   ],
   "source": [
    "vec = model['Communism'] + model['Asia']\n",
    "model.most_similar(positive=[vec], topn=4)"
   ]
  },
  {
   "cell_type": "code",
   "execution_count": null,
   "metadata": {
    "collapsed": true
   },
   "outputs": [],
   "source": [
    "model.most_similar(positive=['Churchill'], negative=['England'])"
   ]
  }
 ],
 "metadata": {
  "kernelspec": {
   "display_name": "Python 3",
   "language": "python",
   "name": "python3"
  },
  "language_info": {
   "codemirror_mode": {
    "name": "ipython",
    "version": 3
   },
   "file_extension": ".py",
   "mimetype": "text/x-python",
   "name": "python",
   "nbconvert_exporter": "python",
   "pygments_lexer": "ipython3",
   "version": "3.5.1"
  }
 },
 "nbformat": 4,
 "nbformat_minor": 0
}
