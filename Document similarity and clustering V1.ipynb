{
 "cells": [
  {
   "cell_type": "code",
   "execution_count": 71,
   "metadata": {
    "collapsed": true
   },
   "outputs": [],
   "source": [
    "import matplotlib\n",
    "import matplotlib.pyplot as plt\n",
    "plt.style.use(\"ggplot\")\n",
    "%matplotlib inline\n",
    "plt.rcParams[\"figure.figsize\"] = \"15, 8\"\n",
    "\n",
    "import pandas as pd\n",
    "import numpy as np"
   ]
  },
  {
   "cell_type": "code",
   "execution_count": 7,
   "metadata": {
    "collapsed": true
   },
   "outputs": [],
   "source": [
    "#http://stackoverflow.com/questions/8897593/similarity-between-two-text-documents\n",
    "import nltk, string\n",
    "from sklearn.feature_extraction.text import TfidfVectorizer\n",
    "\n",
    "stemmer = nltk.stem.porter.PorterStemmer()\n",
    "remove_punctuation_map = dict((ord(char), None) for char in string.punctuation)\n",
    "\n",
    "def stem_tokens(tokens):\n",
    "    return [stemmer.stem(item) for item in tokens]\n",
    "\n",
    "'''remove punctuation, lowercase, stem'''\n",
    "def normalize(text):\n",
    "    return stem_tokens(nltk.word_tokenize(text.lower().translate(remove_punctuation_map)))\n",
    "\n",
    "vectorizer = TfidfVectorizer(tokenizer=normalize, stop_words='english')\n",
    "\n",
    "def cosine_sim(text1, text2):\n",
    "    tfidf = vectorizer.fit_transform([text1, text2])\n",
    "    return ((tfidf * tfidf.T).A)[0,1]"
   ]
  },
  {
   "cell_type": "code",
   "execution_count": 8,
   "metadata": {
    "collapsed": true
   },
   "outputs": [],
   "source": [
    "lines = []\n",
    "with open('sotu.txt') as f:\n",
    "    for line in f:\n",
    "        lines.append(line.strip())\n",
    "\n",
    "lines = [line for line in lines if line != '\\n' and line != '']\n",
    "lines.append('')\n",
    "\n",
    "stars = [i for i, x in enumerate(lines) if x == '***']\n",
    "# last line of file\n",
    "stars.append(len(lines) - 1)\n",
    "\n",
    "def president(i):\n",
    "    return ' '.join(lines[stars[i] + 2 : stars[i] + 3]).strip()\n",
    "\n",
    "def date(i):\n",
    "    return ' '.join(lines[stars[i] + 3 : stars[i] + 4]).strip()\n",
    "\n",
    "def speech(i):\n",
    "    return ' '.join(lines[stars[i] + 4 : stars[i + 1]]).strip()"
   ]
  },
  {
   "cell_type": "code",
   "execution_count": 43,
   "metadata": {
    "collapsed": false
   },
   "outputs": [],
   "source": [
    "def rolling_similarity(end_time):\n",
    "    similarities = []\n",
    "    for i in range(end_time):\n",
    "        similarities.append(cosine_sim(speech(i), speech(i + 1)))\n",
    "    return similarities"
   ]
  },
  {
   "cell_type": "code",
   "execution_count": 44,
   "metadata": {
    "collapsed": false
   },
   "outputs": [],
   "source": [
    "diff_one_series = rolling_similarity(223)"
   ]
  },
  {
   "cell_type": "code",
   "execution_count": 106,
   "metadata": {
    "collapsed": false
   },
   "outputs": [],
   "source": [
    "years = []\n",
    "for i in range(224):\n",
    "    years.append(date(i)[-4:])"
   ]
  },
  {
   "cell_type": "code",
   "execution_count": 115,
   "metadata": {
    "collapsed": false
   },
   "outputs": [
    {
     "data": {
      "text/html": [
       "<div>\n",
       "<table border=\"1\" class=\"dataframe\">\n",
       "  <thead>\n",
       "    <tr style=\"text-align: right;\">\n",
       "      <th></th>\n",
       "      <th>1790</th>\n",
       "    </tr>\n",
       "  </thead>\n",
       "  <tbody>\n",
       "    <tr>\n",
       "      <th>0</th>\n",
       "      <td>0.5</td>\n",
       "    </tr>\n",
       "    <tr>\n",
       "      <th>1</th>\n",
       "      <td>0.7</td>\n",
       "    </tr>\n",
       "    <tr>\n",
       "      <th>2</th>\n",
       "      <td>0.8</td>\n",
       "    </tr>\n",
       "  </tbody>\n",
       "</table>\n",
       "</div>"
      ],
      "text/plain": [
       "   1790\n",
       "0   0.5\n",
       "1   0.7\n",
       "2   0.8"
      ]
     },
     "execution_count": 115,
     "metadata": {},
     "output_type": "execute_result"
    }
   ],
   "source": [
    "pd.DataFrame({\"1790\":[.5, .7, .8]})"
   ]
  },
  {
   "cell_type": "code",
   "execution_count": 150,
   "metadata": {
    "collapsed": false,
    "scrolled": true
   },
   "outputs": [
    {
     "name": "stdout",
     "output_type": "stream",
     "text": [
      "1790\n",
      "1790\n",
      "1791\n",
      "1792\n",
      "1793\n",
      "1794\n",
      "1795\n",
      "1796\n",
      "1797\n",
      "1798\n"
     ]
    }
   ],
   "source": [
    "df = pd.DataFrame()\n",
    "dfs = []\n",
    "for i, year in enumerate(years[:10]):\n",
    "    print(year)\n",
    "    first = speech(i)\n",
    "    temp_dist = []\n",
    "    temp_df = pd.DataFrame()\n",
    "    for j, _ in enumerate(years[:10]):\n",
    "        if j < i:\n",
    "            temp_dist.append('-')\n",
    "        else:\n",
    "            temp_dist.append(cosine_sim(first, speech(j)))\n",
    "    temp_df[year] = temp_dist\n",
    "    dfs.append(temp_df)\n",
    "df = pd.concat(dfs, axis=1)"
   ]
  },
  {
   "cell_type": "code",
   "execution_count": 153,
   "metadata": {
    "collapsed": false
   },
   "outputs": [
    {
     "data": {
      "text/html": [
       "<div>\n",
       "<table border=\"1\" class=\"dataframe\">\n",
       "  <thead>\n",
       "    <tr style=\"text-align: right;\">\n",
       "      <th></th>\n",
       "      <th>1790</th>\n",
       "      <th>1790</th>\n",
       "      <th>1791</th>\n",
       "      <th>1792</th>\n",
       "      <th>1793</th>\n",
       "      <th>1794</th>\n",
       "      <th>1795</th>\n",
       "      <th>1796</th>\n",
       "      <th>1797</th>\n",
       "      <th>1798</th>\n",
       "    </tr>\n",
       "  </thead>\n",
       "  <tbody>\n",
       "    <tr>\n",
       "      <th>0</th>\n",
       "      <td>1.000000</td>\n",
       "      <td>-</td>\n",
       "      <td>-</td>\n",
       "      <td>-</td>\n",
       "      <td>-</td>\n",
       "      <td>-</td>\n",
       "      <td>-</td>\n",
       "      <td>-</td>\n",
       "      <td>-</td>\n",
       "      <td>-</td>\n",
       "    </tr>\n",
       "    <tr>\n",
       "      <th>1</th>\n",
       "      <td>0.438101</td>\n",
       "      <td>1</td>\n",
       "      <td>-</td>\n",
       "      <td>-</td>\n",
       "      <td>-</td>\n",
       "      <td>-</td>\n",
       "      <td>-</td>\n",
       "      <td>-</td>\n",
       "      <td>-</td>\n",
       "      <td>-</td>\n",
       "    </tr>\n",
       "    <tr>\n",
       "      <th>2</th>\n",
       "      <td>0.497558</td>\n",
       "      <td>0.470993</td>\n",
       "      <td>1</td>\n",
       "      <td>-</td>\n",
       "      <td>-</td>\n",
       "      <td>-</td>\n",
       "      <td>-</td>\n",
       "      <td>-</td>\n",
       "      <td>-</td>\n",
       "      <td>-</td>\n",
       "    </tr>\n",
       "    <tr>\n",
       "      <th>3</th>\n",
       "      <td>0.428291</td>\n",
       "      <td>0.471359</td>\n",
       "      <td>0.548411</td>\n",
       "      <td>1</td>\n",
       "      <td>-</td>\n",
       "      <td>-</td>\n",
       "      <td>-</td>\n",
       "      <td>-</td>\n",
       "      <td>-</td>\n",
       "      <td>-</td>\n",
       "    </tr>\n",
       "    <tr>\n",
       "      <th>4</th>\n",
       "      <td>0.404396</td>\n",
       "      <td>0.420486</td>\n",
       "      <td>0.578943</td>\n",
       "      <td>0.475358</td>\n",
       "      <td>1</td>\n",
       "      <td>-</td>\n",
       "      <td>-</td>\n",
       "      <td>-</td>\n",
       "      <td>-</td>\n",
       "      <td>-</td>\n",
       "    </tr>\n",
       "    <tr>\n",
       "      <th>5</th>\n",
       "      <td>0.378920</td>\n",
       "      <td>0.402047</td>\n",
       "      <td>0.514577</td>\n",
       "      <td>0.45431</td>\n",
       "      <td>0.589911</td>\n",
       "      <td>1</td>\n",
       "      <td>-</td>\n",
       "      <td>-</td>\n",
       "      <td>-</td>\n",
       "      <td>-</td>\n",
       "    </tr>\n",
       "    <tr>\n",
       "      <th>6</th>\n",
       "      <td>0.413115</td>\n",
       "      <td>0.453712</td>\n",
       "      <td>0.515655</td>\n",
       "      <td>0.468445</td>\n",
       "      <td>0.472821</td>\n",
       "      <td>0.460478</td>\n",
       "      <td>1</td>\n",
       "      <td>-</td>\n",
       "      <td>-</td>\n",
       "      <td>-</td>\n",
       "    </tr>\n",
       "    <tr>\n",
       "      <th>7</th>\n",
       "      <td>0.433454</td>\n",
       "      <td>0.461258</td>\n",
       "      <td>0.52338</td>\n",
       "      <td>0.439472</td>\n",
       "      <td>0.567868</td>\n",
       "      <td>0.497958</td>\n",
       "      <td>0.503804</td>\n",
       "      <td>1</td>\n",
       "      <td>-</td>\n",
       "      <td>-</td>\n",
       "    </tr>\n",
       "    <tr>\n",
       "      <th>8</th>\n",
       "      <td>0.358947</td>\n",
       "      <td>0.388894</td>\n",
       "      <td>0.493629</td>\n",
       "      <td>0.411983</td>\n",
       "      <td>0.557373</td>\n",
       "      <td>0.466348</td>\n",
       "      <td>0.441189</td>\n",
       "      <td>0.566396</td>\n",
       "      <td>1</td>\n",
       "      <td>-</td>\n",
       "    </tr>\n",
       "    <tr>\n",
       "      <th>9</th>\n",
       "      <td>0.392483</td>\n",
       "      <td>0.43603</td>\n",
       "      <td>0.476434</td>\n",
       "      <td>0.415894</td>\n",
       "      <td>0.530554</td>\n",
       "      <td>0.471653</td>\n",
       "      <td>0.439009</td>\n",
       "      <td>0.597472</td>\n",
       "      <td>0.58356</td>\n",
       "      <td>1</td>\n",
       "    </tr>\n",
       "  </tbody>\n",
       "</table>\n",
       "</div>"
      ],
      "text/plain": [
       "       1790      1790      1791      1792      1793      1794      1795  \\\n",
       "0  1.000000         -         -         -         -         -         -   \n",
       "1  0.438101         1         -         -         -         -         -   \n",
       "2  0.497558  0.470993         1         -         -         -         -   \n",
       "3  0.428291  0.471359  0.548411         1         -         -         -   \n",
       "4  0.404396  0.420486  0.578943  0.475358         1         -         -   \n",
       "5  0.378920  0.402047  0.514577   0.45431  0.589911         1         -   \n",
       "6  0.413115  0.453712  0.515655  0.468445  0.472821  0.460478         1   \n",
       "7  0.433454  0.461258   0.52338  0.439472  0.567868  0.497958  0.503804   \n",
       "8  0.358947  0.388894  0.493629  0.411983  0.557373  0.466348  0.441189   \n",
       "9  0.392483   0.43603  0.476434  0.415894  0.530554  0.471653  0.439009   \n",
       "\n",
       "       1796     1797 1798  \n",
       "0         -        -    -  \n",
       "1         -        -    -  \n",
       "2         -        -    -  \n",
       "3         -        -    -  \n",
       "4         -        -    -  \n",
       "5         -        -    -  \n",
       "6         -        -    -  \n",
       "7         1        -    -  \n",
       "8  0.566396        1    -  \n",
       "9  0.597472  0.58356    1  "
      ]
     },
     "execution_count": 153,
     "metadata": {},
     "output_type": "execute_result"
    }
   ],
   "source": [
    "df"
   ]
  },
  {
   "cell_type": "code",
   "execution_count": 96,
   "metadata": {
    "collapsed": false
   },
   "outputs": [
    {
     "data": {
      "text/plain": [
       "array([ 0.26909885,  0.34253401,  0.41171552,  0.41380018,  0.43810108,\n",
       "        0.45164537,  0.45481508,  0.45583735,  0.46047781,  0.46178195])"
      ]
     },
     "execution_count": 96,
     "metadata": {},
     "output_type": "execute_result"
    }
   ],
   "source": [
    "np.sort(diff_one_series)[:-1][:10]"
   ]
  },
  {
   "cell_type": "code",
   "execution_count": null,
   "metadata": {
    "collapsed": true
   },
   "outputs": [],
   "source": []
  }
 ],
 "metadata": {
  "kernelspec": {
   "display_name": "Python 3",
   "language": "python",
   "name": "python3"
  },
  "language_info": {
   "codemirror_mode": {
    "name": "ipython",
    "version": 3
   },
   "file_extension": ".py",
   "mimetype": "text/x-python",
   "name": "python",
   "nbconvert_exporter": "python",
   "pygments_lexer": "ipython3",
   "version": "3.5.1"
  }
 },
 "nbformat": 4,
 "nbformat_minor": 0
}
